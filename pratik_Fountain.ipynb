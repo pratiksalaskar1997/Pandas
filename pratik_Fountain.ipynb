{
 "cells": [
  {
   "cell_type": "code",
   "execution_count": 1,
   "id": "7b8ba20c",
   "metadata": {},
   "outputs": [],
   "source": [
    "import numpy as np\n",
    "import pandas as pd\n",
    "import matplotlib.pyplot as plt\n",
    "import seaborn as sns\n"
   ]
  },
  {
   "cell_type": "code",
   "execution_count": 97,
   "id": "edb5a650",
   "metadata": {},
   "outputs": [],
   "source": [
    "Sales   = pd.read_excel(\"Fountain9 DS Assignment Data.xlsx\",sheet_name=0)\n",
    "ProMast = pd.read_excel(\"Fountain9 DS Assignment Data.xlsx\",sheet_name=1)\n",
    "BranMast = pd.read_excel(\"Fountain9 DS Assignment Data.xlsx\",sheet_name=2)\n",
    "PO_1 = pd.read_excel(\"Fountain9 DS Assignment Data.xlsx\",sheet_name=3)\n",
    "Sup_Pro_Bran = pd.read_excel(\"Fountain9 DS Assignment Data.xlsx\",sheet_name=4)\n",
    "Select = pd.read_excel(\"Fountain9 DS Assignment Data.xlsx\",sheet_name=5)\n"
   ]
  },
  {
   "cell_type": "code",
   "execution_count": 30,
   "id": "9c29faec",
   "metadata": {},
   "outputs": [
    {
     "data": {
      "text/html": [
       "<div>\n",
       "<style scoped>\n",
       "    .dataframe tbody tr th:only-of-type {\n",
       "        vertical-align: middle;\n",
       "    }\n",
       "\n",
       "    .dataframe tbody tr th {\n",
       "        vertical-align: top;\n",
       "    }\n",
       "\n",
       "    .dataframe thead th {\n",
       "        text-align: right;\n",
       "    }\n",
       "</style>\n",
       "<table border=\"1\" class=\"dataframe\">\n",
       "  <thead>\n",
       "    <tr style=\"text-align: right;\">\n",
       "      <th></th>\n",
       "      <th>Product ID</th>\n",
       "      <th>Product Name</th>\n",
       "      <th>Category 1</th>\n",
       "    </tr>\n",
       "  </thead>\n",
       "  <tbody>\n",
       "    <tr>\n",
       "      <th>0</th>\n",
       "      <td>1.0</td>\n",
       "      <td>Tropicana Orange Juice</td>\n",
       "      <td>Drinks</td>\n",
       "    </tr>\n",
       "    <tr>\n",
       "      <th>1</th>\n",
       "      <td>2.0</td>\n",
       "      <td>Bourbon</td>\n",
       "      <td>Biscuits</td>\n",
       "    </tr>\n",
       "    <tr>\n",
       "      <th>2</th>\n",
       "      <td>2.0</td>\n",
       "      <td>Bourbon</td>\n",
       "      <td>Biscuits</td>\n",
       "    </tr>\n",
       "  </tbody>\n",
       "</table>\n",
       "</div>"
      ],
      "text/plain": [
       "   Product ID            Product Name Category 1\n",
       "0         1.0  Tropicana Orange Juice     Drinks\n",
       "1         2.0                 Bourbon   Biscuits\n",
       "2         2.0                 Bourbon   Biscuits"
      ]
     },
     "execution_count": 30,
     "metadata": {},
     "output_type": "execute_result"
    }
   ],
   "source": [
    "Sal  = pd.read_excel(\"Fountain9 DS Assignment Data.xlsx\",sheet_name=None)\n",
    "Sal['Product Master']"
   ]
  },
  {
   "cell_type": "code",
   "execution_count": 31,
   "id": "225095e5",
   "metadata": {},
   "outputs": [
    {
     "data": {
      "text/html": [
       "<div>\n",
       "<style scoped>\n",
       "    .dataframe tbody tr th:only-of-type {\n",
       "        vertical-align: middle;\n",
       "    }\n",
       "\n",
       "    .dataframe tbody tr th {\n",
       "        vertical-align: top;\n",
       "    }\n",
       "\n",
       "    .dataframe thead th {\n",
       "        text-align: right;\n",
       "    }\n",
       "</style>\n",
       "<table border=\"1\" class=\"dataframe\">\n",
       "  <thead>\n",
       "    <tr style=\"text-align: right;\">\n",
       "      <th></th>\n",
       "      <th>Date</th>\n",
       "      <th>Product ID</th>\n",
       "      <th>Branch ID</th>\n",
       "      <th>Price</th>\n",
       "      <th>Quantity</th>\n",
       "    </tr>\n",
       "  </thead>\n",
       "  <tbody>\n",
       "    <tr>\n",
       "      <th>0</th>\n",
       "      <td>2021-11-01</td>\n",
       "      <td>1.0</td>\n",
       "      <td>100.0</td>\n",
       "      <td>10.0</td>\n",
       "      <td>120.0</td>\n",
       "    </tr>\n",
       "    <tr>\n",
       "      <th>1</th>\n",
       "      <td>2021-11-01</td>\n",
       "      <td>2.0</td>\n",
       "      <td>200.0</td>\n",
       "      <td>15.0</td>\n",
       "      <td>450.0</td>\n",
       "    </tr>\n",
       "    <tr>\n",
       "      <th>2</th>\n",
       "      <td>2021-11-02</td>\n",
       "      <td>1.0</td>\n",
       "      <td>100.0</td>\n",
       "      <td>12.0</td>\n",
       "      <td>300.0</td>\n",
       "    </tr>\n",
       "    <tr>\n",
       "      <th>3</th>\n",
       "      <td>2021-11-02</td>\n",
       "      <td>2.0</td>\n",
       "      <td>200.0</td>\n",
       "      <td>20.0</td>\n",
       "      <td>500.0</td>\n",
       "    </tr>\n",
       "  </tbody>\n",
       "</table>\n",
       "</div>"
      ],
      "text/plain": [
       "        Date  Product ID  Branch ID  Price  Quantity\n",
       "0 2021-11-01         1.0      100.0   10.0     120.0\n",
       "1 2021-11-01         2.0      200.0   15.0     450.0\n",
       "2 2021-11-02         1.0      100.0   12.0     300.0\n",
       "3 2021-11-02         2.0      200.0   20.0     500.0"
      ]
     },
     "execution_count": 31,
     "metadata": {},
     "output_type": "execute_result"
    }
   ],
   "source": [
    "Sales\n"
   ]
  },
  {
   "cell_type": "code",
   "execution_count": 32,
   "id": "96ba8abe",
   "metadata": {},
   "outputs": [
    {
     "data": {
      "text/html": [
       "<div>\n",
       "<style scoped>\n",
       "    .dataframe tbody tr th:only-of-type {\n",
       "        vertical-align: middle;\n",
       "    }\n",
       "\n",
       "    .dataframe tbody tr th {\n",
       "        vertical-align: top;\n",
       "    }\n",
       "\n",
       "    .dataframe thead th {\n",
       "        text-align: right;\n",
       "    }\n",
       "</style>\n",
       "<table border=\"1\" class=\"dataframe\">\n",
       "  <thead>\n",
       "    <tr style=\"text-align: right;\">\n",
       "      <th></th>\n",
       "      <th>Product ID</th>\n",
       "      <th>Product Name</th>\n",
       "      <th>Category 1</th>\n",
       "    </tr>\n",
       "  </thead>\n",
       "  <tbody>\n",
       "    <tr>\n",
       "      <th>0</th>\n",
       "      <td>1.0</td>\n",
       "      <td>Tropicana Orange Juice</td>\n",
       "      <td>Drinks</td>\n",
       "    </tr>\n",
       "    <tr>\n",
       "      <th>1</th>\n",
       "      <td>2.0</td>\n",
       "      <td>Bourbon</td>\n",
       "      <td>Biscuits</td>\n",
       "    </tr>\n",
       "  </tbody>\n",
       "</table>\n",
       "</div>"
      ],
      "text/plain": [
       "   Product ID            Product Name Category 1\n",
       "0         1.0  Tropicana Orange Juice     Drinks\n",
       "1         2.0                 Bourbon   Biscuits"
      ]
     },
     "execution_count": 32,
     "metadata": {},
     "output_type": "execute_result"
    }
   ],
   "source": [
    "ProMast.drop_duplicates()\n"
   ]
  },
  {
   "cell_type": "code",
   "execution_count": 33,
   "id": "de372dc1",
   "metadata": {},
   "outputs": [
    {
     "data": {
      "text/html": [
       "<div>\n",
       "<style scoped>\n",
       "    .dataframe tbody tr th:only-of-type {\n",
       "        vertical-align: middle;\n",
       "    }\n",
       "\n",
       "    .dataframe tbody tr th {\n",
       "        vertical-align: top;\n",
       "    }\n",
       "\n",
       "    .dataframe thead th {\n",
       "        text-align: right;\n",
       "    }\n",
       "</style>\n",
       "<table border=\"1\" class=\"dataframe\">\n",
       "  <thead>\n",
       "    <tr style=\"text-align: right;\">\n",
       "      <th></th>\n",
       "      <th>Branch ID</th>\n",
       "      <th>Branch Name</th>\n",
       "      <th>City</th>\n",
       "    </tr>\n",
       "  </thead>\n",
       "  <tbody>\n",
       "    <tr>\n",
       "      <th>0</th>\n",
       "      <td>100.0</td>\n",
       "      <td>Powai</td>\n",
       "      <td>Mumbai</td>\n",
       "    </tr>\n",
       "    <tr>\n",
       "      <th>1</th>\n",
       "      <td>200.0</td>\n",
       "      <td>HSR</td>\n",
       "      <td>Bangalore</td>\n",
       "    </tr>\n",
       "  </tbody>\n",
       "</table>\n",
       "</div>"
      ],
      "text/plain": [
       "   Branch ID Branch Name       City\n",
       "0      100.0       Powai     Mumbai\n",
       "1      200.0         HSR  Bangalore"
      ]
     },
     "execution_count": 33,
     "metadata": {},
     "output_type": "execute_result"
    }
   ],
   "source": [
    "BranMast\n"
   ]
  },
  {
   "cell_type": "code",
   "execution_count": 34,
   "id": "2fb25c52",
   "metadata": {},
   "outputs": [
    {
     "data": {
      "text/html": [
       "<div>\n",
       "<style scoped>\n",
       "    .dataframe tbody tr th:only-of-type {\n",
       "        vertical-align: middle;\n",
       "    }\n",
       "\n",
       "    .dataframe tbody tr th {\n",
       "        vertical-align: top;\n",
       "    }\n",
       "\n",
       "    .dataframe thead th {\n",
       "        text-align: right;\n",
       "    }\n",
       "</style>\n",
       "<table border=\"1\" class=\"dataframe\">\n",
       "  <thead>\n",
       "    <tr style=\"text-align: right;\">\n",
       "      <th></th>\n",
       "      <th>Date</th>\n",
       "      <th>Purchase Order ID</th>\n",
       "      <th>Product ID</th>\n",
       "      <th>Branch ID</th>\n",
       "      <th>Supplier ID</th>\n",
       "      <th>Ordered Quantity</th>\n",
       "      <th>Received Quantity</th>\n",
       "      <th>Ordered Date</th>\n",
       "      <th>Received Date</th>\n",
       "    </tr>\n",
       "  </thead>\n",
       "  <tbody>\n",
       "    <tr>\n",
       "      <th>0</th>\n",
       "      <td>2021-11-01</td>\n",
       "      <td>101.0</td>\n",
       "      <td>1.0</td>\n",
       "      <td>100.0</td>\n",
       "      <td>2000.0</td>\n",
       "      <td>100.0</td>\n",
       "      <td>NaN</td>\n",
       "      <td>2021-11-01</td>\n",
       "      <td>NaT</td>\n",
       "    </tr>\n",
       "    <tr>\n",
       "      <th>1</th>\n",
       "      <td>2021-11-01</td>\n",
       "      <td>102.0</td>\n",
       "      <td>1.0</td>\n",
       "      <td>100.0</td>\n",
       "      <td>2000.0</td>\n",
       "      <td>50.0</td>\n",
       "      <td>50.0</td>\n",
       "      <td>2021-10-25</td>\n",
       "      <td>2021-11-01</td>\n",
       "    </tr>\n",
       "    <tr>\n",
       "      <th>2</th>\n",
       "      <td>2021-11-01</td>\n",
       "      <td>103.0</td>\n",
       "      <td>1.0</td>\n",
       "      <td>100.0</td>\n",
       "      <td>2000.0</td>\n",
       "      <td>20.0</td>\n",
       "      <td>20.0</td>\n",
       "      <td>2021-10-28</td>\n",
       "      <td>2021-11-01</td>\n",
       "    </tr>\n",
       "    <tr>\n",
       "      <th>3</th>\n",
       "      <td>2021-11-01</td>\n",
       "      <td>104.0</td>\n",
       "      <td>2.0</td>\n",
       "      <td>200.0</td>\n",
       "      <td>3000.0</td>\n",
       "      <td>200.0</td>\n",
       "      <td>200.0</td>\n",
       "      <td>2021-11-01</td>\n",
       "      <td>2021-11-01</td>\n",
       "    </tr>\n",
       "    <tr>\n",
       "      <th>4</th>\n",
       "      <td>2021-11-01</td>\n",
       "      <td>105.0</td>\n",
       "      <td>2.0</td>\n",
       "      <td>200.0</td>\n",
       "      <td>3000.0</td>\n",
       "      <td>50.0</td>\n",
       "      <td>50.0</td>\n",
       "      <td>2021-10-27</td>\n",
       "      <td>2021-11-01</td>\n",
       "    </tr>\n",
       "    <tr>\n",
       "      <th>5</th>\n",
       "      <td>2021-11-01</td>\n",
       "      <td>106.0</td>\n",
       "      <td>2.0</td>\n",
       "      <td>200.0</td>\n",
       "      <td>3000.0</td>\n",
       "      <td>20.0</td>\n",
       "      <td>20.0</td>\n",
       "      <td>2021-10-29</td>\n",
       "      <td>2021-11-01</td>\n",
       "    </tr>\n",
       "  </tbody>\n",
       "</table>\n",
       "</div>"
      ],
      "text/plain": [
       "        Date  Purchase Order ID  Product ID  Branch ID  Supplier ID  \\\n",
       "0 2021-11-01              101.0         1.0      100.0       2000.0   \n",
       "1 2021-11-01              102.0         1.0      100.0       2000.0   \n",
       "2 2021-11-01              103.0         1.0      100.0       2000.0   \n",
       "3 2021-11-01              104.0         2.0      200.0       3000.0   \n",
       "4 2021-11-01              105.0         2.0      200.0       3000.0   \n",
       "5 2021-11-01              106.0         2.0      200.0       3000.0   \n",
       "\n",
       "   Ordered Quantity  Received Quantity Ordered Date Received Date  \n",
       "0             100.0                NaN   2021-11-01           NaT  \n",
       "1              50.0               50.0   2021-10-25    2021-11-01  \n",
       "2              20.0               20.0   2021-10-28    2021-11-01  \n",
       "3             200.0              200.0   2021-11-01    2021-11-01  \n",
       "4              50.0               50.0   2021-10-27    2021-11-01  \n",
       "5              20.0               20.0   2021-10-29    2021-11-01  "
      ]
     },
     "execution_count": 34,
     "metadata": {},
     "output_type": "execute_result"
    }
   ],
   "source": [
    "PO_1\n"
   ]
  },
  {
   "cell_type": "code",
   "execution_count": 98,
   "id": "4fe027ee",
   "metadata": {},
   "outputs": [
    {
     "data": {
      "text/html": [
       "<div>\n",
       "<style scoped>\n",
       "    .dataframe tbody tr th:only-of-type {\n",
       "        vertical-align: middle;\n",
       "    }\n",
       "\n",
       "    .dataframe tbody tr th {\n",
       "        vertical-align: top;\n",
       "    }\n",
       "\n",
       "    .dataframe thead th {\n",
       "        text-align: right;\n",
       "    }\n",
       "</style>\n",
       "<table border=\"1\" class=\"dataframe\">\n",
       "  <thead>\n",
       "    <tr style=\"text-align: right;\">\n",
       "      <th></th>\n",
       "      <th>Supplier ID</th>\n",
       "      <th>Product ID</th>\n",
       "      <th>Branch ID</th>\n",
       "      <th>Schedule Days</th>\n",
       "    </tr>\n",
       "  </thead>\n",
       "  <tbody>\n",
       "    <tr>\n",
       "      <th>0</th>\n",
       "      <td>2000.0</td>\n",
       "      <td>1.0</td>\n",
       "      <td>100.0</td>\n",
       "      <td>[\"Monday\", \"Wednesday\"]</td>\n",
       "    </tr>\n",
       "    <tr>\n",
       "      <th>1</th>\n",
       "      <td>3000.0</td>\n",
       "      <td>1.0</td>\n",
       "      <td>200.0</td>\n",
       "      <td>[\"tuesday\"]</td>\n",
       "    </tr>\n",
       "    <tr>\n",
       "      <th>2</th>\n",
       "      <td>2000.0</td>\n",
       "      <td>2.0</td>\n",
       "      <td>100.0</td>\n",
       "      <td>[\"Sunday\"]</td>\n",
       "    </tr>\n",
       "    <tr>\n",
       "      <th>3</th>\n",
       "      <td>3000.0</td>\n",
       "      <td>2.0</td>\n",
       "      <td>200.0</td>\n",
       "      <td>[\"Thursday\", \"monday\"]</td>\n",
       "    </tr>\n",
       "  </tbody>\n",
       "</table>\n",
       "</div>"
      ],
      "text/plain": [
       "   Supplier ID  Product ID  Branch ID            Schedule Days\n",
       "0       2000.0         1.0      100.0  [\"Monday\", \"Wednesday\"]\n",
       "1       3000.0         1.0      200.0              [\"tuesday\"]\n",
       "2       2000.0         2.0      100.0               [\"Sunday\"]\n",
       "3       3000.0         2.0      200.0   [\"Thursday\", \"monday\"]"
      ]
     },
     "execution_count": 98,
     "metadata": {},
     "output_type": "execute_result"
    }
   ],
   "source": [
    "Sup_Pro_Bran\n"
   ]
  },
  {
   "cell_type": "markdown",
   "id": "2636e783",
   "metadata": {},
   "source": [
    "# 1. Perform operations on Sales, Product Master, Branch Master"
   ]
  },
  {
   "cell_type": "code",
   "execution_count": 9,
   "id": "342338fc",
   "metadata": {},
   "outputs": [
    {
     "data": {
      "text/html": [
       "<div>\n",
       "<style scoped>\n",
       "    .dataframe tbody tr th:only-of-type {\n",
       "        vertical-align: middle;\n",
       "    }\n",
       "\n",
       "    .dataframe tbody tr th {\n",
       "        vertical-align: top;\n",
       "    }\n",
       "\n",
       "    .dataframe thead th {\n",
       "        text-align: right;\n",
       "    }\n",
       "</style>\n",
       "<table border=\"1\" class=\"dataframe\">\n",
       "  <thead>\n",
       "    <tr style=\"text-align: right;\">\n",
       "      <th></th>\n",
       "      <th>Product Name</th>\n",
       "      <th>Category 1</th>\n",
       "    </tr>\n",
       "  </thead>\n",
       "  <tbody>\n",
       "    <tr>\n",
       "      <th>0</th>\n",
       "      <td>Tropicana Orange Juice</td>\n",
       "      <td>Drinks</td>\n",
       "    </tr>\n",
       "    <tr>\n",
       "      <th>1</th>\n",
       "      <td>Bourbon</td>\n",
       "      <td>Biscuits</td>\n",
       "    </tr>\n",
       "  </tbody>\n",
       "</table>\n",
       "</div>"
      ],
      "text/plain": [
       "             Product Name Category 1\n",
       "0  Tropicana Orange Juice     Drinks\n",
       "1                 Bourbon   Biscuits"
      ]
     },
     "execution_count": 9,
     "metadata": {},
     "output_type": "execute_result"
    }
   ],
   "source": [
    "Pro1 = ProMast.loc[:1,['Product Name','Category 1']]\n",
    "Pro1"
   ]
  },
  {
   "cell_type": "code",
   "execution_count": 10,
   "id": "6fb7f067",
   "metadata": {},
   "outputs": [
    {
     "data": {
      "text/html": [
       "<div>\n",
       "<style scoped>\n",
       "    .dataframe tbody tr th:only-of-type {\n",
       "        vertical-align: middle;\n",
       "    }\n",
       "\n",
       "    .dataframe tbody tr th {\n",
       "        vertical-align: top;\n",
       "    }\n",
       "\n",
       "    .dataframe thead th {\n",
       "        text-align: right;\n",
       "    }\n",
       "</style>\n",
       "<table border=\"1\" class=\"dataframe\">\n",
       "  <thead>\n",
       "    <tr style=\"text-align: right;\">\n",
       "      <th></th>\n",
       "      <th>Date</th>\n",
       "      <th>Product ID</th>\n",
       "      <th>Branch ID</th>\n",
       "      <th>Price</th>\n",
       "      <th>Quantity</th>\n",
       "      <th>Product Name</th>\n",
       "      <th>Category 1</th>\n",
       "      <th>Branch Name</th>\n",
       "      <th>City</th>\n",
       "    </tr>\n",
       "  </thead>\n",
       "  <tbody>\n",
       "    <tr>\n",
       "      <th>0</th>\n",
       "      <td>2021-11-01</td>\n",
       "      <td>1.0</td>\n",
       "      <td>100.0</td>\n",
       "      <td>10.0</td>\n",
       "      <td>120.0</td>\n",
       "      <td>Tropicana Orange Juice</td>\n",
       "      <td>Drinks</td>\n",
       "      <td>Powai</td>\n",
       "      <td>Mumbai</td>\n",
       "    </tr>\n",
       "    <tr>\n",
       "      <th>1</th>\n",
       "      <td>2021-11-01</td>\n",
       "      <td>2.0</td>\n",
       "      <td>200.0</td>\n",
       "      <td>15.0</td>\n",
       "      <td>450.0</td>\n",
       "      <td>Bourbon</td>\n",
       "      <td>Biscuits</td>\n",
       "      <td>HSR</td>\n",
       "      <td>Bangalore</td>\n",
       "    </tr>\n",
       "    <tr>\n",
       "      <th>2</th>\n",
       "      <td>2021-11-02</td>\n",
       "      <td>1.0</td>\n",
       "      <td>100.0</td>\n",
       "      <td>12.0</td>\n",
       "      <td>300.0</td>\n",
       "      <td>Tropicana Orange Juice</td>\n",
       "      <td>Drinks</td>\n",
       "      <td>Powai</td>\n",
       "      <td>Mumbai</td>\n",
       "    </tr>\n",
       "    <tr>\n",
       "      <th>3</th>\n",
       "      <td>2021-11-02</td>\n",
       "      <td>2.0</td>\n",
       "      <td>200.0</td>\n",
       "      <td>20.0</td>\n",
       "      <td>500.0</td>\n",
       "      <td>Bourbon</td>\n",
       "      <td>Biscuits</td>\n",
       "      <td>HSR</td>\n",
       "      <td>Bangalore</td>\n",
       "    </tr>\n",
       "  </tbody>\n",
       "</table>\n",
       "</div>"
      ],
      "text/plain": [
       "        Date  Product ID  Branch ID  Price  Quantity            Product Name  \\\n",
       "0 2021-11-01         1.0      100.0   10.0     120.0  Tropicana Orange Juice   \n",
       "1 2021-11-01         2.0      200.0   15.0     450.0                 Bourbon   \n",
       "2 2021-11-02         1.0      100.0   12.0     300.0  Tropicana Orange Juice   \n",
       "3 2021-11-02         2.0      200.0   20.0     500.0                 Bourbon   \n",
       "\n",
       "  Category 1 Branch Name       City  \n",
       "0     Drinks       Powai     Mumbai  \n",
       "1   Biscuits         HSR  Bangalore  \n",
       "2     Drinks       Powai     Mumbai  \n",
       "3   Biscuits         HSR  Bangalore  "
      ]
     },
     "execution_count": 10,
     "metadata": {},
     "output_type": "execute_result"
    }
   ],
   "source": [
    "\n",
    "M = (pd.merge(Sales,ProMast.drop_duplicates(),how='left'))\n",
    "pd.merge(M,BranMast,on = 'Branch ID',how='left')\n"
   ]
  },
  {
   "cell_type": "code",
   "execution_count": 11,
   "id": "1faf304c",
   "metadata": {},
   "outputs": [
    {
     "data": {
      "text/html": [
       "<div>\n",
       "<style scoped>\n",
       "    .dataframe tbody tr th:only-of-type {\n",
       "        vertical-align: middle;\n",
       "    }\n",
       "\n",
       "    .dataframe tbody tr th {\n",
       "        vertical-align: top;\n",
       "    }\n",
       "\n",
       "    .dataframe thead th {\n",
       "        text-align: right;\n",
       "    }\n",
       "</style>\n",
       "<table border=\"1\" class=\"dataframe\">\n",
       "  <thead>\n",
       "    <tr style=\"text-align: right;\">\n",
       "      <th></th>\n",
       "      <th>Product Name</th>\n",
       "      <th>Category 1</th>\n",
       "    </tr>\n",
       "  </thead>\n",
       "  <tbody>\n",
       "    <tr>\n",
       "      <th>0</th>\n",
       "      <td>Tropicana Orange Juice</td>\n",
       "      <td>Drinks</td>\n",
       "    </tr>\n",
       "    <tr>\n",
       "      <th>1</th>\n",
       "      <td>Bourbon</td>\n",
       "      <td>Biscuits</td>\n",
       "    </tr>\n",
       "    <tr>\n",
       "      <th>2</th>\n",
       "      <td>Tropicana Orange Juice</td>\n",
       "      <td>Drinks</td>\n",
       "    </tr>\n",
       "    <tr>\n",
       "      <th>3</th>\n",
       "      <td>Bourbon</td>\n",
       "      <td>Biscuits</td>\n",
       "    </tr>\n",
       "  </tbody>\n",
       "</table>\n",
       "</div>"
      ],
      "text/plain": [
       "             Product Name Category 1\n",
       "0  Tropicana Orange Juice     Drinks\n",
       "1                 Bourbon   Biscuits\n",
       "2  Tropicana Orange Juice     Drinks\n",
       "3                 Bourbon   Biscuits"
      ]
     },
     "execution_count": 11,
     "metadata": {},
     "output_type": "execute_result"
    }
   ],
   "source": [
    "ProMast1 = Pro1.append(Pro1,ignore_index=True)\n",
    "ProMast1\n"
   ]
  },
  {
   "cell_type": "code",
   "execution_count": 12,
   "id": "90ee06a4",
   "metadata": {},
   "outputs": [
    {
     "data": {
      "text/html": [
       "<div>\n",
       "<style scoped>\n",
       "    .dataframe tbody tr th:only-of-type {\n",
       "        vertical-align: middle;\n",
       "    }\n",
       "\n",
       "    .dataframe tbody tr th {\n",
       "        vertical-align: top;\n",
       "    }\n",
       "\n",
       "    .dataframe thead th {\n",
       "        text-align: right;\n",
       "    }\n",
       "</style>\n",
       "<table border=\"1\" class=\"dataframe\">\n",
       "  <thead>\n",
       "    <tr style=\"text-align: right;\">\n",
       "      <th></th>\n",
       "      <th>Branch Name</th>\n",
       "      <th>City</th>\n",
       "    </tr>\n",
       "  </thead>\n",
       "  <tbody>\n",
       "    <tr>\n",
       "      <th>0</th>\n",
       "      <td>Powai</td>\n",
       "      <td>Mumbai</td>\n",
       "    </tr>\n",
       "    <tr>\n",
       "      <th>1</th>\n",
       "      <td>HSR</td>\n",
       "      <td>Bangalore</td>\n",
       "    </tr>\n",
       "    <tr>\n",
       "      <th>2</th>\n",
       "      <td>Powai</td>\n",
       "      <td>Mumbai</td>\n",
       "    </tr>\n",
       "    <tr>\n",
       "      <th>3</th>\n",
       "      <td>HSR</td>\n",
       "      <td>Bangalore</td>\n",
       "    </tr>\n",
       "  </tbody>\n",
       "</table>\n",
       "</div>"
      ],
      "text/plain": [
       "  Branch Name       City\n",
       "0       Powai     Mumbai\n",
       "1         HSR  Bangalore\n",
       "2       Powai     Mumbai\n",
       "3         HSR  Bangalore"
      ]
     },
     "execution_count": 12,
     "metadata": {},
     "output_type": "execute_result"
    }
   ],
   "source": [
    "BranMast1 = BranMast[['Branch Name','City']].append(BranMast[['Branch Name','City']],ignore_index=True)\n",
    "BranMast1\n"
   ]
  },
  {
   "cell_type": "code",
   "execution_count": 13,
   "id": "bedc962b",
   "metadata": {},
   "outputs": [
    {
     "data": {
      "text/html": [
       "<div>\n",
       "<style scoped>\n",
       "    .dataframe tbody tr th:only-of-type {\n",
       "        vertical-align: middle;\n",
       "    }\n",
       "\n",
       "    .dataframe tbody tr th {\n",
       "        vertical-align: top;\n",
       "    }\n",
       "\n",
       "    .dataframe thead th {\n",
       "        text-align: right;\n",
       "    }\n",
       "</style>\n",
       "<table border=\"1\" class=\"dataframe\">\n",
       "  <thead>\n",
       "    <tr style=\"text-align: right;\">\n",
       "      <th></th>\n",
       "      <th>Date</th>\n",
       "      <th>Product ID</th>\n",
       "      <th>Branch ID</th>\n",
       "      <th>Price</th>\n",
       "      <th>Quantity</th>\n",
       "      <th>Product Name</th>\n",
       "      <th>Category 1</th>\n",
       "      <th>Branch Name</th>\n",
       "      <th>City</th>\n",
       "    </tr>\n",
       "  </thead>\n",
       "  <tbody>\n",
       "    <tr>\n",
       "      <th>0</th>\n",
       "      <td>2021-11-01</td>\n",
       "      <td>1.0</td>\n",
       "      <td>100.0</td>\n",
       "      <td>10.0</td>\n",
       "      <td>120.0</td>\n",
       "      <td>Tropicana Orange Juice</td>\n",
       "      <td>Drinks</td>\n",
       "      <td>Powai</td>\n",
       "      <td>Mumbai</td>\n",
       "    </tr>\n",
       "    <tr>\n",
       "      <th>1</th>\n",
       "      <td>2021-11-01</td>\n",
       "      <td>2.0</td>\n",
       "      <td>200.0</td>\n",
       "      <td>15.0</td>\n",
       "      <td>450.0</td>\n",
       "      <td>Bourbon</td>\n",
       "      <td>Biscuits</td>\n",
       "      <td>HSR</td>\n",
       "      <td>Bangalore</td>\n",
       "    </tr>\n",
       "    <tr>\n",
       "      <th>2</th>\n",
       "      <td>2021-11-02</td>\n",
       "      <td>1.0</td>\n",
       "      <td>100.0</td>\n",
       "      <td>12.0</td>\n",
       "      <td>300.0</td>\n",
       "      <td>Tropicana Orange Juice</td>\n",
       "      <td>Drinks</td>\n",
       "      <td>Powai</td>\n",
       "      <td>Mumbai</td>\n",
       "    </tr>\n",
       "    <tr>\n",
       "      <th>3</th>\n",
       "      <td>2021-11-02</td>\n",
       "      <td>2.0</td>\n",
       "      <td>200.0</td>\n",
       "      <td>20.0</td>\n",
       "      <td>500.0</td>\n",
       "      <td>Bourbon</td>\n",
       "      <td>Biscuits</td>\n",
       "      <td>HSR</td>\n",
       "      <td>Bangalore</td>\n",
       "    </tr>\n",
       "  </tbody>\n",
       "</table>\n",
       "</div>"
      ],
      "text/plain": [
       "        Date  Product ID  Branch ID  Price  Quantity            Product Name  \\\n",
       "0 2021-11-01         1.0      100.0   10.0     120.0  Tropicana Orange Juice   \n",
       "1 2021-11-01         2.0      200.0   15.0     450.0                 Bourbon   \n",
       "2 2021-11-02         1.0      100.0   12.0     300.0  Tropicana Orange Juice   \n",
       "3 2021-11-02         2.0      200.0   20.0     500.0                 Bourbon   \n",
       "\n",
       "  Category 1 Branch Name       City  \n",
       "0     Drinks       Powai     Mumbai  \n",
       "1   Biscuits         HSR  Bangalore  \n",
       "2     Drinks       Powai     Mumbai  \n",
       "3   Biscuits         HSR  Bangalore  "
      ]
     },
     "execution_count": 13,
     "metadata": {},
     "output_type": "execute_result"
    }
   ],
   "source": [
    "# to add column use concat method and change axis =1 then add entries rowwise:\n",
    "pd.concat([Sales,ProMast1,BranMast1],axis = 1)\n"
   ]
  },
  {
   "cell_type": "markdown",
   "id": "3acf3f10",
   "metadata": {},
   "source": [
    "### SO, IN ABOVE DATAFRAME WE CAN SEE WE GET OUR DESIRED OUTPUT"
   ]
  },
  {
   "cell_type": "markdown",
   "id": "4fdba2f3",
   "metadata": {},
   "source": [
    "# 2. Use Purchase Order 1 to calculate the following things\n",
    "a. Add column 'lead time': Lead time is the difference between the ordered date and the received date in days\n",
    "\n"
   ]
  },
  {
   "cell_type": "markdown",
   "id": "af41da74",
   "metadata": {},
   "source": [
    "### a. ====>"
   ]
  },
  {
   "cell_type": "code",
   "execution_count": 14,
   "id": "1f97caa5",
   "metadata": {},
   "outputs": [
    {
     "data": {
      "text/html": [
       "<div>\n",
       "<style scoped>\n",
       "    .dataframe tbody tr th:only-of-type {\n",
       "        vertical-align: middle;\n",
       "    }\n",
       "\n",
       "    .dataframe tbody tr th {\n",
       "        vertical-align: top;\n",
       "    }\n",
       "\n",
       "    .dataframe thead th {\n",
       "        text-align: right;\n",
       "    }\n",
       "</style>\n",
       "<table border=\"1\" class=\"dataframe\">\n",
       "  <thead>\n",
       "    <tr style=\"text-align: right;\">\n",
       "      <th></th>\n",
       "      <th>Date</th>\n",
       "      <th>Purchase Order ID</th>\n",
       "      <th>Product ID</th>\n",
       "      <th>Branch ID</th>\n",
       "      <th>Supplier ID</th>\n",
       "      <th>Ordered Quantity</th>\n",
       "      <th>Received Quantity</th>\n",
       "      <th>Ordered Date</th>\n",
       "      <th>Received Date</th>\n",
       "    </tr>\n",
       "  </thead>\n",
       "  <tbody>\n",
       "    <tr>\n",
       "      <th>0</th>\n",
       "      <td>2021-11-01</td>\n",
       "      <td>101.0</td>\n",
       "      <td>1.0</td>\n",
       "      <td>100.0</td>\n",
       "      <td>2000.0</td>\n",
       "      <td>100.0</td>\n",
       "      <td>NaN</td>\n",
       "      <td>2021-11-01</td>\n",
       "      <td>NaT</td>\n",
       "    </tr>\n",
       "    <tr>\n",
       "      <th>1</th>\n",
       "      <td>2021-11-01</td>\n",
       "      <td>102.0</td>\n",
       "      <td>1.0</td>\n",
       "      <td>100.0</td>\n",
       "      <td>2000.0</td>\n",
       "      <td>50.0</td>\n",
       "      <td>50.0</td>\n",
       "      <td>2021-10-25</td>\n",
       "      <td>2021-11-01</td>\n",
       "    </tr>\n",
       "    <tr>\n",
       "      <th>2</th>\n",
       "      <td>2021-11-01</td>\n",
       "      <td>103.0</td>\n",
       "      <td>1.0</td>\n",
       "      <td>100.0</td>\n",
       "      <td>2000.0</td>\n",
       "      <td>20.0</td>\n",
       "      <td>20.0</td>\n",
       "      <td>2021-10-28</td>\n",
       "      <td>2021-11-01</td>\n",
       "    </tr>\n",
       "    <tr>\n",
       "      <th>3</th>\n",
       "      <td>2021-11-01</td>\n",
       "      <td>104.0</td>\n",
       "      <td>2.0</td>\n",
       "      <td>200.0</td>\n",
       "      <td>3000.0</td>\n",
       "      <td>200.0</td>\n",
       "      <td>200.0</td>\n",
       "      <td>2021-11-01</td>\n",
       "      <td>2021-11-01</td>\n",
       "    </tr>\n",
       "    <tr>\n",
       "      <th>4</th>\n",
       "      <td>2021-11-01</td>\n",
       "      <td>105.0</td>\n",
       "      <td>2.0</td>\n",
       "      <td>200.0</td>\n",
       "      <td>3000.0</td>\n",
       "      <td>50.0</td>\n",
       "      <td>50.0</td>\n",
       "      <td>2021-10-27</td>\n",
       "      <td>2021-11-01</td>\n",
       "    </tr>\n",
       "    <tr>\n",
       "      <th>5</th>\n",
       "      <td>2021-11-01</td>\n",
       "      <td>106.0</td>\n",
       "      <td>2.0</td>\n",
       "      <td>200.0</td>\n",
       "      <td>3000.0</td>\n",
       "      <td>20.0</td>\n",
       "      <td>20.0</td>\n",
       "      <td>2021-10-29</td>\n",
       "      <td>2021-11-01</td>\n",
       "    </tr>\n",
       "  </tbody>\n",
       "</table>\n",
       "</div>"
      ],
      "text/plain": [
       "        Date  Purchase Order ID  Product ID  Branch ID  Supplier ID  \\\n",
       "0 2021-11-01              101.0         1.0      100.0       2000.0   \n",
       "1 2021-11-01              102.0         1.0      100.0       2000.0   \n",
       "2 2021-11-01              103.0         1.0      100.0       2000.0   \n",
       "3 2021-11-01              104.0         2.0      200.0       3000.0   \n",
       "4 2021-11-01              105.0         2.0      200.0       3000.0   \n",
       "5 2021-11-01              106.0         2.0      200.0       3000.0   \n",
       "\n",
       "   Ordered Quantity  Received Quantity Ordered Date Received Date  \n",
       "0             100.0                NaN   2021-11-01           NaT  \n",
       "1              50.0               50.0   2021-10-25    2021-11-01  \n",
       "2              20.0               20.0   2021-10-28    2021-11-01  \n",
       "3             200.0              200.0   2021-11-01    2021-11-01  \n",
       "4              50.0               50.0   2021-10-27    2021-11-01  \n",
       "5              20.0               20.0   2021-10-29    2021-11-01  "
      ]
     },
     "execution_count": 14,
     "metadata": {},
     "output_type": "execute_result"
    }
   ],
   "source": [
    "PO_1\n"
   ]
  },
  {
   "cell_type": "markdown",
   "id": "e09348f5",
   "metadata": {},
   "source": [
    "##### IN ABOVE CASE WE CAN SEE IN Received Date COLUMN 'NaT' IS PRESENT SO FIRST CHANGE IT.\n"
   ]
  },
  {
   "cell_type": "code",
   "execution_count": 15,
   "id": "fe6bbef9",
   "metadata": {},
   "outputs": [],
   "source": [
    "Lead_Time = (pd.to_datetime(PO_1['Received Date']))-(pd.to_datetime(PO_1['Ordered Date']))\n",
    "Lead_Time = pd.DataFrame(Lead_Time/np.timedelta64(1,'D'),columns = ['lead time'])\n"
   ]
  },
  {
   "cell_type": "code",
   "execution_count": 16,
   "id": "f8268ea7",
   "metadata": {},
   "outputs": [
    {
     "data": {
      "text/html": [
       "<div>\n",
       "<style scoped>\n",
       "    .dataframe tbody tr th:only-of-type {\n",
       "        vertical-align: middle;\n",
       "    }\n",
       "\n",
       "    .dataframe tbody tr th {\n",
       "        vertical-align: top;\n",
       "    }\n",
       "\n",
       "    .dataframe thead th {\n",
       "        text-align: right;\n",
       "    }\n",
       "</style>\n",
       "<table border=\"1\" class=\"dataframe\">\n",
       "  <thead>\n",
       "    <tr style=\"text-align: right;\">\n",
       "      <th></th>\n",
       "      <th>Date</th>\n",
       "      <th>Purchase Order ID</th>\n",
       "      <th>Product ID</th>\n",
       "      <th>Branch ID</th>\n",
       "      <th>Supplier ID</th>\n",
       "      <th>Ordered Quantity</th>\n",
       "      <th>Received Quantity</th>\n",
       "      <th>Ordered Date</th>\n",
       "      <th>Received Date</th>\n",
       "      <th>lead time</th>\n",
       "    </tr>\n",
       "  </thead>\n",
       "  <tbody>\n",
       "    <tr>\n",
       "      <th>0</th>\n",
       "      <td>2021-11-01</td>\n",
       "      <td>101.0</td>\n",
       "      <td>1.0</td>\n",
       "      <td>100.0</td>\n",
       "      <td>2000.0</td>\n",
       "      <td>100.0</td>\n",
       "      <td>NaN</td>\n",
       "      <td>2021-11-01</td>\n",
       "      <td>NaT</td>\n",
       "      <td>NaN</td>\n",
       "    </tr>\n",
       "    <tr>\n",
       "      <th>1</th>\n",
       "      <td>2021-11-01</td>\n",
       "      <td>102.0</td>\n",
       "      <td>1.0</td>\n",
       "      <td>100.0</td>\n",
       "      <td>2000.0</td>\n",
       "      <td>50.0</td>\n",
       "      <td>50.0</td>\n",
       "      <td>2021-10-25</td>\n",
       "      <td>2021-11-01</td>\n",
       "      <td>7.0</td>\n",
       "    </tr>\n",
       "    <tr>\n",
       "      <th>2</th>\n",
       "      <td>2021-11-01</td>\n",
       "      <td>103.0</td>\n",
       "      <td>1.0</td>\n",
       "      <td>100.0</td>\n",
       "      <td>2000.0</td>\n",
       "      <td>20.0</td>\n",
       "      <td>20.0</td>\n",
       "      <td>2021-10-28</td>\n",
       "      <td>2021-11-01</td>\n",
       "      <td>4.0</td>\n",
       "    </tr>\n",
       "    <tr>\n",
       "      <th>3</th>\n",
       "      <td>2021-11-01</td>\n",
       "      <td>104.0</td>\n",
       "      <td>2.0</td>\n",
       "      <td>200.0</td>\n",
       "      <td>3000.0</td>\n",
       "      <td>200.0</td>\n",
       "      <td>200.0</td>\n",
       "      <td>2021-11-01</td>\n",
       "      <td>2021-11-01</td>\n",
       "      <td>0.0</td>\n",
       "    </tr>\n",
       "    <tr>\n",
       "      <th>4</th>\n",
       "      <td>2021-11-01</td>\n",
       "      <td>105.0</td>\n",
       "      <td>2.0</td>\n",
       "      <td>200.0</td>\n",
       "      <td>3000.0</td>\n",
       "      <td>50.0</td>\n",
       "      <td>50.0</td>\n",
       "      <td>2021-10-27</td>\n",
       "      <td>2021-11-01</td>\n",
       "      <td>5.0</td>\n",
       "    </tr>\n",
       "    <tr>\n",
       "      <th>5</th>\n",
       "      <td>2021-11-01</td>\n",
       "      <td>106.0</td>\n",
       "      <td>2.0</td>\n",
       "      <td>200.0</td>\n",
       "      <td>3000.0</td>\n",
       "      <td>20.0</td>\n",
       "      <td>20.0</td>\n",
       "      <td>2021-10-29</td>\n",
       "      <td>2021-11-01</td>\n",
       "      <td>3.0</td>\n",
       "    </tr>\n",
       "  </tbody>\n",
       "</table>\n",
       "</div>"
      ],
      "text/plain": [
       "        Date  Purchase Order ID  Product ID  Branch ID  Supplier ID  \\\n",
       "0 2021-11-01              101.0         1.0      100.0       2000.0   \n",
       "1 2021-11-01              102.0         1.0      100.0       2000.0   \n",
       "2 2021-11-01              103.0         1.0      100.0       2000.0   \n",
       "3 2021-11-01              104.0         2.0      200.0       3000.0   \n",
       "4 2021-11-01              105.0         2.0      200.0       3000.0   \n",
       "5 2021-11-01              106.0         2.0      200.0       3000.0   \n",
       "\n",
       "   Ordered Quantity  Received Quantity Ordered Date Received Date  lead time  \n",
       "0             100.0                NaN   2021-11-01           NaT        NaN  \n",
       "1              50.0               50.0   2021-10-25    2021-11-01        7.0  \n",
       "2              20.0               20.0   2021-10-28    2021-11-01        4.0  \n",
       "3             200.0              200.0   2021-11-01    2021-11-01        0.0  \n",
       "4              50.0               50.0   2021-10-27    2021-11-01        5.0  \n",
       "5              20.0               20.0   2021-10-29    2021-11-01        3.0  "
      ]
     },
     "execution_count": 16,
     "metadata": {},
     "output_type": "execute_result"
    }
   ],
   "source": [
    "PO_2 = pd.concat([PO_1,Lead_Time],axis=1)\n",
    "PO_2\n"
   ]
  },
  {
   "cell_type": "markdown",
   "id": "492fcc10",
   "metadata": {},
   "source": [
    "##### so, here here we will get our desired output."
   ]
  },
  {
   "cell_type": "markdown",
   "id": "a8959803",
   "metadata": {},
   "source": [
    "### b. ===>"
   ]
  },
  {
   "cell_type": "markdown",
   "id": "be7e3893",
   "metadata": {},
   "source": [
    "### b. Calculate lead time average and lead time varience for each Product ID-Branch ID-Supplier ID combination"
   ]
  },
  {
   "cell_type": "code",
   "execution_count": 17,
   "id": "624f6fee",
   "metadata": {},
   "outputs": [
    {
     "data": {
      "text/html": [
       "<div>\n",
       "<style scoped>\n",
       "    .dataframe tbody tr th:only-of-type {\n",
       "        vertical-align: middle;\n",
       "    }\n",
       "\n",
       "    .dataframe tbody tr th {\n",
       "        vertical-align: top;\n",
       "    }\n",
       "\n",
       "    .dataframe thead th {\n",
       "        text-align: right;\n",
       "    }\n",
       "</style>\n",
       "<table border=\"1\" class=\"dataframe\">\n",
       "  <thead>\n",
       "    <tr style=\"text-align: right;\">\n",
       "      <th></th>\n",
       "      <th>Product ID</th>\n",
       "      <th>Branch ID</th>\n",
       "      <th>Supplier ID</th>\n",
       "    </tr>\n",
       "  </thead>\n",
       "  <tbody>\n",
       "    <tr>\n",
       "      <th>0</th>\n",
       "      <td>1.0</td>\n",
       "      <td>100.0</td>\n",
       "      <td>2000.0</td>\n",
       "    </tr>\n",
       "    <tr>\n",
       "      <th>1</th>\n",
       "      <td>2.0</td>\n",
       "      <td>200.0</td>\n",
       "      <td>3000.0</td>\n",
       "    </tr>\n",
       "  </tbody>\n",
       "</table>\n",
       "</div>"
      ],
      "text/plain": [
       "   Product ID  Branch ID  Supplier ID\n",
       "0         1.0      100.0       2000.0\n",
       "1         2.0      200.0       3000.0"
      ]
     },
     "execution_count": 17,
     "metadata": {},
     "output_type": "execute_result"
    }
   ],
   "source": [
    "DPO = PO_2[['Product ID','Branch ID','Supplier ID']].drop_duplicates(ignore_index=True)\n",
    "DPO\n"
   ]
  },
  {
   "cell_type": "code",
   "execution_count": 18,
   "id": "6cb3ce12",
   "metadata": {},
   "outputs": [
    {
     "data": {
      "text/plain": [
       "5.5"
      ]
     },
     "execution_count": 18,
     "metadata": {},
     "output_type": "execute_result"
    }
   ],
   "source": [
    "PO_2.groupby('Product ID').get_group(DPO.iloc[0,0])['lead time'].agg(np.mean)\n"
   ]
  },
  {
   "cell_type": "code",
   "execution_count": 19,
   "id": "78d4bb9d",
   "metadata": {},
   "outputs": [
    {
     "data": {
      "text/plain": [
       "4.5"
      ]
     },
     "execution_count": 19,
     "metadata": {},
     "output_type": "execute_result"
    }
   ],
   "source": [
    "PO_2.groupby('Product ID').get_group(DPO.iloc[0,0])['lead time'].var()"
   ]
  },
  {
   "cell_type": "code",
   "execution_count": 20,
   "id": "6ba7141d",
   "metadata": {},
   "outputs": [
    {
     "data": {
      "text/html": [
       "<div>\n",
       "<style scoped>\n",
       "    .dataframe tbody tr th:only-of-type {\n",
       "        vertical-align: middle;\n",
       "    }\n",
       "\n",
       "    .dataframe tbody tr th {\n",
       "        vertical-align: top;\n",
       "    }\n",
       "\n",
       "    .dataframe thead th {\n",
       "        text-align: right;\n",
       "    }\n",
       "</style>\n",
       "<table border=\"1\" class=\"dataframe\">\n",
       "  <thead>\n",
       "    <tr style=\"text-align: right;\">\n",
       "      <th></th>\n",
       "      <th></th>\n",
       "      <th></th>\n",
       "      <th>mean</th>\n",
       "      <th>var</th>\n",
       "    </tr>\n",
       "    <tr>\n",
       "      <th>Product ID</th>\n",
       "      <th>Branch ID</th>\n",
       "      <th>Supplier ID</th>\n",
       "      <th></th>\n",
       "      <th></th>\n",
       "    </tr>\n",
       "  </thead>\n",
       "  <tbody>\n",
       "    <tr>\n",
       "      <th>1.0</th>\n",
       "      <th>100.0</th>\n",
       "      <th>2000.0</th>\n",
       "      <td>5.500000</td>\n",
       "      <td>4.500000</td>\n",
       "    </tr>\n",
       "    <tr>\n",
       "      <th>2.0</th>\n",
       "      <th>200.0</th>\n",
       "      <th>3000.0</th>\n",
       "      <td>2.666667</td>\n",
       "      <td>6.333333</td>\n",
       "    </tr>\n",
       "  </tbody>\n",
       "</table>\n",
       "</div>"
      ],
      "text/plain": [
       "                                      mean       var\n",
       "Product ID Branch ID Supplier ID                    \n",
       "1.0        100.0     2000.0       5.500000  4.500000\n",
       "2.0        200.0     3000.0       2.666667  6.333333"
      ]
     },
     "execution_count": 20,
     "metadata": {},
     "output_type": "execute_result"
    }
   ],
   "source": [
    "PO_2.groupby(['Product ID','Branch ID','Supplier ID'])['lead time'].agg([np.mean,np.var])"
   ]
  },
  {
   "cell_type": "markdown",
   "id": "5f05838e",
   "metadata": {},
   "source": [
    "# 3. Use Supplier-Product-Branch to convert the schedule Days column from text to numeric: use this for the mapping\n",
    "    {'monday' : 0,'tuseday':1,'wednesday':2,'thursday':3,'friday':4,'saturday':5,'sunday':6}"
   ]
  },
  {
   "cell_type": "code",
   "execution_count": 91,
   "id": "c36bb282",
   "metadata": {},
   "outputs": [],
   "source": [
    "Sup_Pro_Bran['Schedule Days']=Sup_Pro_Bran['Schedule Days'].str.strip('[]')\n"
   ]
  },
  {
   "cell_type": "code",
   "execution_count": 92,
   "id": "b79351a1",
   "metadata": {},
   "outputs": [],
   "source": [
    "dict = {\"monday\" : 0,\"tuseday\":1,\"wednesday\":2,\"thursday\":3,\"friday\":4,\"saturday\":5,\"sunday\":6}"
   ]
  },
  {
   "cell_type": "code",
   "execution_count": 93,
   "id": "bacb53f1",
   "metadata": {},
   "outputs": [],
   "source": [
    "Sup_Pro_Bran['Schedule Days']=Sup_Pro_Bran['Schedule Days'].str.lower()\n"
   ]
  },
  {
   "cell_type": "code",
   "execution_count": 94,
   "id": "befd6ba9",
   "metadata": {},
   "outputs": [],
   "source": [
    "Sup_Pro_Bran['Schedule Days']=Sup_Pro_Bran['Schedule Days'].str.replace('monday','0')\n",
    "Sup_Pro_Bran['Schedule Days']=Sup_Pro_Bran['Schedule Days'].str.replace('tuesday','1')\n",
    "Sup_Pro_Bran['Schedule Days']=Sup_Pro_Bran['Schedule Days'].str.replace('wednesday','2')\n",
    "Sup_Pro_Bran['Schedule Days']=Sup_Pro_Bran['Schedule Days'].str.replace('thursday','3')\n",
    "Sup_Pro_Bran['Schedule Days']=Sup_Pro_Bran['Schedule Days'].str.replace('friday','4')\n",
    "Sup_Pro_Bran['Schedule Days']=Sup_Pro_Bran['Schedule Days'].str.replace('saturday','5')\n",
    "Sup_Pro_Bran['Schedule Days']=Sup_Pro_Bran['Schedule Days'].str.replace('sunday','6')\n"
   ]
  },
  {
   "cell_type": "code",
   "execution_count": 110,
   "id": "96613420",
   "metadata": {},
   "outputs": [
    {
     "data": {
      "text/plain": [
       "0      Monday\n",
       "1     tuesday\n",
       "2      Sunday\n",
       "3    Thursday\n",
       "4      monday\n",
       "dtype: object"
      ]
     },
     "execution_count": 110,
     "metadata": {},
     "output_type": "execute_result"
    }
   ],
   "source": [
    "a=['Monday', 'tuesday', 'Sunday','Thursday', 'monday']\n",
    "pd.Series(a)"
   ]
  },
  {
   "cell_type": "code",
   "execution_count": null,
   "id": "b8a9dcbf",
   "metadata": {},
   "outputs": [],
   "source": []
  },
  {
   "cell_type": "code",
   "execution_count": 82,
   "id": "5c934a23",
   "metadata": {},
   "outputs": [
    {
     "data": {
      "text/plain": [
       "{'monday': 0,\n",
       " 'tuseday': 1,\n",
       " 'wednesday': 2,\n",
       " 'thursday': 3,\n",
       " 'friday': 4,\n",
       " 'saturday': 5,\n",
       " 'sunday': 6}"
      ]
     },
     "execution_count": 82,
     "metadata": {},
     "output_type": "execute_result"
    }
   ],
   "source": [
    "dict"
   ]
  },
  {
   "cell_type": "markdown",
   "id": "3a9cd851",
   "metadata": {},
   "source": [
    "# 4. use select sheet and add a new column 'Result' to it"
   ]
  },
  {
   "cell_type": "markdown",
   "id": "3e41a129",
   "metadata": {},
   "source": [
    "### a. for all rows where the category is biscuits populate the 'result' column with the value of qauntity column "
   ]
  },
  {
   "cell_type": "markdown",
   "id": "0bba54b1",
   "metadata": {},
   "source": [
    "### b. for all other columns, populate the result column with the value of price column"
   ]
  },
  {
   "cell_type": "code",
   "execution_count": null,
   "id": "17d90e9b",
   "metadata": {},
   "outputs": [],
   "source": [
    "Select['Result']=Select.groupby('Product Category').get_group('Biscuits').Quantity \n",
    "\n",
    "Select['Result']"
   ]
  },
  {
   "cell_type": "code",
   "execution_count": null,
   "id": "4c4ada07",
   "metadata": {},
   "outputs": [],
   "source": [
    "Select['Result']=Select['Result'].fillna(Select[ Select['Product Category'] != 'Biscuits'].Price)\n",
    "Select['Result']"
   ]
  },
  {
   "cell_type": "code",
   "execution_count": null,
   "id": "f4282f7d",
   "metadata": {},
   "outputs": [],
   "source": [
    "Select\n"
   ]
  },
  {
   "cell_type": "code",
   "execution_count": null,
   "id": "bd2addae",
   "metadata": {},
   "outputs": [],
   "source": []
  }
 ],
 "metadata": {
  "kernelspec": {
   "display_name": "Python 3 (ipykernel)",
   "language": "python",
   "name": "python3"
  },
  "language_info": {
   "codemirror_mode": {
    "name": "ipython",
    "version": 3
   },
   "file_extension": ".py",
   "mimetype": "text/x-python",
   "name": "python",
   "nbconvert_exporter": "python",
   "pygments_lexer": "ipython3",
   "version": "3.9.7"
  }
 },
 "nbformat": 4,
 "nbformat_minor": 5
}
